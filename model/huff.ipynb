{
 "cells": [
  {
   "cell_type": "code",
   "execution_count": 1,
   "metadata": {},
   "outputs": [],
   "source": [
    "import pandas as pd\n",
    "import numpy as np\n",
    "import os \n",
    "os.chdir(r\"/Users/kitchaichawmengchai/Downloads/VScode/Customer-Analytic/\")\n",
    "xls= pd.ExcelFile('data/ecomm_invoice_transaction.xlsx')"
   ]
  },
  {
   "cell_type": "code",
   "execution_count": 2,
   "metadata": {},
   "outputs": [
    {
     "data": {
      "text/plain": [
       "['Distance', 'Census', 'stores']"
      ]
     },
     "execution_count": 2,
     "metadata": {},
     "output_type": "execute_result"
    }
   ],
   "source": [
    "xls.sheet_names\n"
   ]
  },
  {
   "cell_type": "code",
   "execution_count": 3,
   "metadata": {},
   "outputs": [
    {
     "data": {
      "text/html": [
       "<div>\n",
       "<style scoped>\n",
       "    .dataframe tbody tr th:only-of-type {\n",
       "        vertical-align: middle;\n",
       "    }\n",
       "\n",
       "    .dataframe tbody tr th {\n",
       "        vertical-align: top;\n",
       "    }\n",
       "\n",
       "    .dataframe thead th {\n",
       "        text-align: right;\n",
       "    }\n",
       "</style>\n",
       "<table border=\"1\" class=\"dataframe\">\n",
       "  <thead>\n",
       "    <tr style=\"text-align: right;\">\n",
       "      <th></th>\n",
       "      <th>Rosmere</th>\n",
       "      <th>saint-rose</th>\n",
       "      <th>Laval de Rapides</th>\n",
       "      <th>Boisbraind</th>\n",
       "    </tr>\n",
       "    <tr>\n",
       "      <th>customer community</th>\n",
       "      <th></th>\n",
       "      <th></th>\n",
       "      <th></th>\n",
       "      <th></th>\n",
       "    </tr>\n",
       "  </thead>\n",
       "  <tbody>\n",
       "    <tr>\n",
       "      <th>Blainville</th>\n",
       "      <td>30</td>\n",
       "      <td>70</td>\n",
       "      <td>130</td>\n",
       "      <td>40</td>\n",
       "    </tr>\n",
       "    <tr>\n",
       "      <th>Boisbrand</th>\n",
       "      <td>20</td>\n",
       "      <td>20</td>\n",
       "      <td>110</td>\n",
       "      <td>1</td>\n",
       "    </tr>\n",
       "    <tr>\n",
       "      <th>Saint therese</th>\n",
       "      <td>20</td>\n",
       "      <td>40</td>\n",
       "      <td>130</td>\n",
       "      <td>20</td>\n",
       "    </tr>\n",
       "    <tr>\n",
       "      <th>Fabre villee</th>\n",
       "      <td>50</td>\n",
       "      <td>20</td>\n",
       "      <td>40</td>\n",
       "      <td>40</td>\n",
       "    </tr>\n",
       "    <tr>\n",
       "      <th>Laval de Rapides</th>\n",
       "      <td>80</td>\n",
       "      <td>70</td>\n",
       "      <td>1</td>\n",
       "      <td>80</td>\n",
       "    </tr>\n",
       "    <tr>\n",
       "      <th>Sainte Dorothee</th>\n",
       "      <td>100</td>\n",
       "      <td>70</td>\n",
       "      <td>40</td>\n",
       "      <td>100</td>\n",
       "    </tr>\n",
       "    <tr>\n",
       "      <th>Carterville</th>\n",
       "      <td>120</td>\n",
       "      <td>80</td>\n",
       "      <td>20</td>\n",
       "      <td>100</td>\n",
       "    </tr>\n",
       "    <tr>\n",
       "      <th>bois des filion</th>\n",
       "      <td>30</td>\n",
       "      <td>70</td>\n",
       "      <td>120</td>\n",
       "      <td>80</td>\n",
       "    </tr>\n",
       "    <tr>\n",
       "      <th>Deux Montagnes</th>\n",
       "      <td>150</td>\n",
       "      <td>100</td>\n",
       "      <td>90</td>\n",
       "      <td>100</td>\n",
       "    </tr>\n",
       "  </tbody>\n",
       "</table>\n",
       "</div>"
      ],
      "text/plain": [
       "                    Rosmere  saint-rose  Laval de Rapides  Boisbraind\n",
       "customer community                                                   \n",
       "Blainville               30          70               130          40\n",
       "Boisbrand                20          20               110           1\n",
       "Saint therese            20          40               130          20\n",
       "Fabre villee             50          20                40          40\n",
       "Laval de Rapides         80          70                 1          80\n",
       "Sainte Dorothee         100          70                40         100\n",
       "Carterville             120          80                20         100\n",
       "bois des filion          30          70               120          80\n",
       "Deux Montagnes          150         100                90         100"
      ]
     },
     "execution_count": 3,
     "metadata": {},
     "output_type": "execute_result"
    }
   ],
   "source": [
    "distance= xls.parse(0,index_col=0)\n",
    "distance"
   ]
  },
  {
   "cell_type": "code",
   "execution_count": 9,
   "metadata": {},
   "outputs": [],
   "source": [
    "census= xls.parse(1,index_col=0)\n",
    "census['total']= census['Households']*census['Expenditure grocery']"
   ]
  },
  {
   "cell_type": "code",
   "execution_count": 13,
   "metadata": {},
   "outputs": [
    {
     "data": {
      "text/html": [
       "<div>\n",
       "<style scoped>\n",
       "    .dataframe tbody tr th:only-of-type {\n",
       "        vertical-align: middle;\n",
       "    }\n",
       "\n",
       "    .dataframe tbody tr th {\n",
       "        vertical-align: top;\n",
       "    }\n",
       "\n",
       "    .dataframe thead th {\n",
       "        text-align: right;\n",
       "    }\n",
       "</style>\n",
       "<table border=\"1\" class=\"dataframe\">\n",
       "  <thead>\n",
       "    <tr style=\"text-align: right;\">\n",
       "      <th></th>\n",
       "      <th>Size</th>\n",
       "      <th>Parking spaces</th>\n",
       "      <th>Highways</th>\n",
       "      <th>Traffic</th>\n",
       "      <th>Accessibility</th>\n",
       "      <th>Design</th>\n",
       "    </tr>\n",
       "    <tr>\n",
       "      <th>customer community</th>\n",
       "      <th></th>\n",
       "      <th></th>\n",
       "      <th></th>\n",
       "      <th></th>\n",
       "      <th></th>\n",
       "      <th></th>\n",
       "    </tr>\n",
       "  </thead>\n",
       "  <tbody>\n",
       "    <tr>\n",
       "      <th>Rosmere</th>\n",
       "      <td>1000</td>\n",
       "      <td>200</td>\n",
       "      <td>4</td>\n",
       "      <td>4</td>\n",
       "      <td>10</td>\n",
       "      <td>7</td>\n",
       "    </tr>\n",
       "    <tr>\n",
       "      <th>saint-rose</th>\n",
       "      <td>1100</td>\n",
       "      <td>150</td>\n",
       "      <td>2</td>\n",
       "      <td>8</td>\n",
       "      <td>7</td>\n",
       "      <td>7</td>\n",
       "    </tr>\n",
       "    <tr>\n",
       "      <th>Laval de Rapides</th>\n",
       "      <td>800</td>\n",
       "      <td>120</td>\n",
       "      <td>3</td>\n",
       "      <td>2</td>\n",
       "      <td>8</td>\n",
       "      <td>6</td>\n",
       "    </tr>\n",
       "    <tr>\n",
       "      <th>Boisbraind</th>\n",
       "      <td>1300</td>\n",
       "      <td>220</td>\n",
       "      <td>5</td>\n",
       "      <td>6</td>\n",
       "      <td>5</td>\n",
       "      <td>10</td>\n",
       "    </tr>\n",
       "  </tbody>\n",
       "</table>\n",
       "</div>"
      ],
      "text/plain": [
       "                    Size  Parking spaces  Highways  Traffic  Accessibility  \\\n",
       "customer community                                                           \n",
       "Rosmere             1000             200         4        4             10   \n",
       "saint-rose          1100             150         2        8              7   \n",
       "Laval de Rapides     800             120         3        2              8   \n",
       "Boisbraind          1300             220         5        6              5   \n",
       "\n",
       "                    Design  \n",
       "customer community          \n",
       "Rosmere                  7  \n",
       "saint-rose               7  \n",
       "Laval de Rapides         6  \n",
       "Boisbraind              10  "
      ]
     },
     "execution_count": 13,
     "metadata": {},
     "output_type": "execute_result"
    }
   ],
   "source": [
    "attractivness= xls.parse(2,index_col=0)\n",
    "attractivness"
   ]
  },
  {
   "cell_type": "code",
   "execution_count": 11,
   "metadata": {},
   "outputs": [],
   "source": [
    "stores= np.unique(attractivness.index)\n",
    "commu= np.unique(distance.index)"
   ]
  },
  {
   "cell_type": "code",
   "execution_count": 15,
   "metadata": {},
   "outputs": [
    {
     "data": {
      "text/plain": [
       "array(['Boisbraind', 'Laval de Rapides', 'Rosmere', 'saint-rose'],\n",
       "      dtype=object)"
      ]
     },
     "execution_count": 15,
     "metadata": {},
     "output_type": "execute_result"
    }
   ],
   "source": [
    "stores"
   ]
  },
  {
   "cell_type": "code",
   "execution_count": 16,
   "metadata": {},
   "outputs": [
    {
     "data": {
      "text/plain": [
       "array(['Blainville', 'Boisbrand', 'Carterville', 'Deux Montagnes',\n",
       "       'Fabre villee', 'Laval de Rapides', 'Saint therese',\n",
       "       'Sainte Dorothee', 'bois des filion'], dtype=object)"
      ]
     },
     "execution_count": 16,
     "metadata": {},
     "output_type": "execute_result"
    }
   ],
   "source": [
    "commu"
   ]
  },
  {
   "cell_type": "code",
   "execution_count": 12,
   "metadata": {},
   "outputs": [],
   "source": [
    "keys= [(x,y) for x in commu for y in stores]"
   ]
  },
  {
   "cell_type": "code",
   "execution_count": 17,
   "metadata": {},
   "outputs": [],
   "source": [
    "scaled= (attractivness- attractivness.min())/(attractivness.max()-attractivness.min())\n"
   ]
  },
  {
   "cell_type": "code",
   "execution_count": 18,
   "metadata": {},
   "outputs": [],
   "source": [
    "scaled.columns\n",
    "scaled['attractivness']=(scaled['Size']+ scaled['Parking spaces']+scaled['Highways']+\n",
    "scaled['Traffic']+scaled['Accessibility']+scaled['Design'])"
   ]
  },
  {
   "cell_type": "code",
   "execution_count": 20,
   "metadata": {},
   "outputs": [
    {
     "data": {
      "text/plain": [
       "{('Blainville', 'Boisbraind'): 0.0029166666666666664,\n",
       " ('Blainville', 'Laval de Rapides'): 5.522682445759369e-05,\n",
       " ('Blainville', 'Rosmere'): 0.0038333333333333336,\n",
       " ('Blainville', 'saint-rose'): 0.0005204081632653061,\n",
       " ('Boisbrand', 'Boisbraind'): 4.666666666666666,\n",
       " ('Boisbrand', 'Laval de Rapides'): 7.713498622589531e-05,\n",
       " ('Boisbrand', 'Rosmere'): 0.008625,\n",
       " ('Boisbrand', 'saint-rose'): 0.006375,\n",
       " ('Carterville', 'Boisbraind'): 0.0004666666666666666,\n",
       " ('Carterville', 'Laval de Rapides'): 0.0023333333333333335,\n",
       " ('Carterville', 'Rosmere'): 0.00023958333333333335,\n",
       " ('Carterville', 'saint-rose'): 0.0003984375,\n",
       " ('Deux Montagnes', 'Boisbraind'): 0.0004666666666666666,\n",
       " ('Deux Montagnes', 'Laval de Rapides'): 0.00011522633744855967,\n",
       " ('Deux Montagnes', 'Rosmere'): 0.00015333333333333334,\n",
       " ('Deux Montagnes', 'saint-rose'): 0.00025499999999999996,\n",
       " ('Fabre villee', 'Boisbraind'): 0.0029166666666666664,\n",
       " ('Fabre villee', 'Laval de Rapides'): 0.0005833333333333334,\n",
       " ('Fabre villee', 'Rosmere'): 0.0013800000000000002,\n",
       " ('Fabre villee', 'saint-rose'): 0.006375,\n",
       " ('Laval de Rapides', 'Boisbraind'): 0.0007291666666666666,\n",
       " ('Laval de Rapides', 'Laval de Rapides'): 0.9333333333333333,\n",
       " ('Laval de Rapides', 'Rosmere'): 0.0005390625,\n",
       " ('Laval de Rapides', 'saint-rose'): 0.0005204081632653061,\n",
       " ('Saint therese', 'Boisbraind'): 0.011666666666666665,\n",
       " ('Saint therese', 'Laval de Rapides'): 5.522682445759369e-05,\n",
       " ('Saint therese', 'Rosmere'): 0.008625,\n",
       " ('Saint therese', 'saint-rose'): 0.00159375,\n",
       " ('Sainte Dorothee', 'Boisbraind'): 0.0004666666666666666,\n",
       " ('Sainte Dorothee', 'Laval de Rapides'): 0.0005833333333333334,\n",
       " ('Sainte Dorothee', 'Rosmere'): 0.00034500000000000004,\n",
       " ('Sainte Dorothee', 'saint-rose'): 0.0005204081632653061,\n",
       " ('bois des filion', 'Boisbraind'): 0.0007291666666666666,\n",
       " ('bois des filion', 'Laval de Rapides'): 6.481481481481482e-05,\n",
       " ('bois des filion', 'Rosmere'): 0.0038333333333333336,\n",
       " ('bois des filion', 'saint-rose'): 0.0005204081632653061}"
      ]
     },
     "execution_count": 20,
     "metadata": {},
     "output_type": "execute_result"
    }
   ],
   "source": [
    "neum= {}\n",
    "\n",
    "for key in keys:\n",
    "    neum[key]= scaled.loc[key[1],'attractivness']/distance.loc[key[0],key[1]]**2\n",
    "\n",
    "neum"
   ]
  },
  {
   "cell_type": "code",
   "execution_count": 24,
   "metadata": {},
   "outputs": [
    {
     "data": {
      "text/plain": [
       "{('Blainville', 'Boisbraind'): 0.3981452354034477,\n",
       " ('Blainville', 'Laval de Rapides'): 0.00753884469402978,\n",
       " ('Blainville', 'Rosmere'): 0.5232765951016742,\n",
       " ('Blainville', 'saint-rose'): 0.0710393248008484,\n",
       " ('Boisbrand', 'Boisbraind'): 0.9967795899081655,\n",
       " ('Boisbrand', 'Laval de Rapides'): 1.6475695700961416e-05,\n",
       " ('Boisbrand', 'Rosmere'): 0.001842262277776699,\n",
       " ('Boisbrand', 'saint-rose'): 0.0013616721183566905,\n",
       " ('Carterville', 'Boisbraind'): 0.13573700954400847,\n",
       " ('Carterville', 'Laval de Rapides'): 0.6786850477200425,\n",
       " ('Carterville', 'Rosmere'): 0.0696864111498258,\n",
       " ('Carterville', 'saint-rose'): 0.11589153158612331,\n",
       " ('Deux Montagnes', 'Boisbraind'): 0.47127272727272723,\n",
       " ('Deux Montagnes', 'Laval de Rapides'): 0.11636363636363636,\n",
       " ('Deux Montagnes', 'Rosmere'): 0.15484675324675326,\n",
       " ('Deux Montagnes', 'saint-rose'): 0.2575168831168831,\n",
       " ('Fabre villee', 'Boisbraind'): 0.25914408411076556,\n",
       " ('Fabre villee', 'Laval de Rapides'): 0.05182881682215312,\n",
       " ('Fabre villee', 'Rosmere'): 0.12261217236783653,\n",
       " ('Fabre villee', 'saint-rose'): 0.5664149266992448,\n",
       " ('Laval de Rapides', 'Boisbraind'): 0.0007797556784485362,\n",
       " ('Laval de Rapides', 'Laval de Rapides'): 0.9980872684141264,\n",
       " ('Laval de Rapides', 'Rosmere'): 0.0005764622337101679,\n",
       " ('Laval de Rapides', 'saint-rose'): 0.0005565136737148736,\n",
       " ('Saint therese', 'Boisbraind'): 0.531737670838425,\n",
       " ('Saint therese', 'Laval de Rapides'): 0.0025171014004185806,\n",
       " ('Saint therese', 'Rosmere'): 0.3931060637984071,\n",
       " ('Saint therese', 'saint-rose'): 0.07263916396274914,\n",
       " ('Sainte Dorothee', 'Boisbraind'): 0.24363823628647022,\n",
       " ('Sainte Dorothee', 'Laval de Rapides'): 0.30454779535808785,\n",
       " ('Sainte Dorothee', 'Rosmere'): 0.18011826754035482,\n",
       " ('Sainte Dorothee', 'saint-rose'): 0.2716957008150871,\n",
       " ('bois des filion', 'Boisbraind'): 0.14164838896179577,\n",
       " ('bois des filion', 'Laval de Rapides'): 0.01259096790771518,\n",
       " ('bois des filion', 'Rosmere'): 0.7446658162562978,\n",
       " ('bois des filion', 'saint-rose'): 0.10109482687419127}"
      ]
     },
     "execution_count": 24,
     "metadata": {},
     "output_type": "execute_result"
    }
   ],
   "source": [
    "Pijs={}\n",
    "for key in keys:\n",
    "    Pijs[key]= neum[key]/sum([v for k,v in neum.items() if k[0]== key[0]])\n",
    "Pijs"
   ]
  },
  {
   "cell_type": "code",
   "execution_count": 23,
   "metadata": {},
   "outputs": [
    {
     "data": {
      "text/plain": [
       "{('Blainville', 'Boisbraind'): 1274064.7532910327,\n",
       " ('Blainville', 'Laval de Rapides'): 24124.303020895295,\n",
       " ('Blainville', 'Rosmere'): 1674485.1043253576,\n",
       " ('Blainville', 'saint-rose'): 227325.83936271488,\n",
       " ('Boisbrand', 'Boisbraind'): 7974236.719265324,\n",
       " ('Boisbrand', 'Laval de Rapides'): 131.80556560769134,\n",
       " ('Boisbrand', 'Rosmere'): 14738.098222213594,\n",
       " ('Boisbrand', 'saint-rose'): 10893.376946853525,\n",
       " ('Carterville', 'Boisbraind'): 855143.1601272534,\n",
       " ('Carterville', 'Laval de Rapides'): 4275715.800636267,\n",
       " ('Carterville', 'Rosmere'): 439024.3902439025,\n",
       " ('Carterville', 'saint-rose'): 730116.6489925769,\n",
       " ('Deux Montagnes', 'Boisbraind'): 2639127.2727272725,\n",
       " ('Deux Montagnes', 'Laval de Rapides'): 651636.3636363636,\n",
       " ('Deux Montagnes', 'Rosmere'): 867141.8181818182,\n",
       " ('Deux Montagnes', 'saint-rose'): 1442094.5454545452,\n",
       " ('Fabre villee', 'Boisbraind'): 1088405.1532652155,\n",
       " ('Fabre villee', 'Laval de Rapides'): 217681.03065304313,\n",
       " ('Fabre villee', 'Rosmere'): 514971.12394491344,\n",
       " ('Fabre villee', 'saint-rose'): 2378942.692136828,\n",
       " ('Laval de Rapides', 'Boisbraind'): 935.7068141382434,\n",
       " ('Laval de Rapides', 'Laval de Rapides'): 1197704.7220969517,\n",
       " ('Laval de Rapides', 'Rosmere'): 691.7546804522015,\n",
       " ('Laval de Rapides', 'saint-rose'): 667.8164084578483,\n",
       " ('Saint therese', 'Boisbraind'): 7018937.255067211,\n",
       " ('Saint therese', 'Laval de Rapides'): 33225.73848552526,\n",
       " ('Saint therese', 'Rosmere'): 5189000.042138974,\n",
       " ('Saint therese', 'saint-rose'): 958836.9643082886,\n",
       " ('Sainte Dorothee', 'Boisbraind'): 852733.8270026457,\n",
       " ('Sainte Dorothee', 'Laval de Rapides'): 1065917.2837533075,\n",
       " ('Sainte Dorothee', 'Rosmere'): 630413.9363912418,\n",
       " ('Sainte Dorothee', 'saint-rose'): 950934.9528528048,\n",
       " ('bois des filion', 'Boisbraind'): 637417.750328081,\n",
       " ('bois des filion', 'Laval de Rapides'): 56659.355584718316,\n",
       " ('bois des filion', 'Rosmere'): 3350996.17315334,\n",
       " ('bois des filion', 'saint-rose'): 454926.72093386075}"
      ]
     },
     "execution_count": 23,
     "metadata": {},
     "output_type": "execute_result"
    }
   ],
   "source": [
    "### expected_per_key\n",
    "exp_key={}\n",
    "census\n",
    "for key in keys:\n",
    "    exp_key[key]= Pijs[key]* census.loc[key[0],'total']\n",
    "exp_key"
   ]
  },
  {
   "cell_type": "code",
   "execution_count": 26,
   "metadata": {},
   "outputs": [
    {
     "data": {
      "text/plain": [
       "{'Boisbraind': 22341001.597888175,\n",
       " 'Laval de Rapides': 7522796.403432679,\n",
       " 'Rosmere': 12681462.441282213,\n",
       " 'saint-rose': 7154739.557396932}"
      ]
     },
     "execution_count": 26,
     "metadata": {},
     "output_type": "execute_result"
    }
   ],
   "source": [
    "# expected sales per store\n",
    "exp_store= {}    \n",
    "for store in stores:\n",
    "    exp_store[store]= sum([v for k,v in exp_key.items() if k[1]==store])\n",
    "exp_store   \n"
   ]
  }
 ],
 "metadata": {
  "kernelspec": {
   "display_name": "Python 3",
   "language": "python",
   "name": "python3"
  },
  "language_info": {
   "codemirror_mode": {
    "name": "ipython",
    "version": 3
   },
   "file_extension": ".py",
   "mimetype": "text/x-python",
   "name": "python",
   "nbconvert_exporter": "python",
   "pygments_lexer": "ipython3",
   "version": "3.12.2"
  }
 },
 "nbformat": 4,
 "nbformat_minor": 2
}
